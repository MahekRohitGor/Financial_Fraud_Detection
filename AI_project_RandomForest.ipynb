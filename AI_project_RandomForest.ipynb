{
 "cells": [
  {
   "cell_type": "code",
   "execution_count": 2,
   "id": "ac429b9a",
   "metadata": {},
   "outputs": [],
   "source": [
    "import pandas as pd\n",
    "from sklearn.ensemble import RandomForestClassifier\n",
    "from sklearn.model_selection import train_test_split\n",
    "from sklearn.metrics import accuracy_score, precision_score, recall_score, f1_score"
   ]
  },
  {
   "cell_type": "code",
   "execution_count": 9,
   "id": "9be1bc33",
   "metadata": {},
   "outputs": [],
   "source": [
    "df = pd.read_csv(\"D:/Semester 6/Artificial Intelligence/AI Project/Synthetic_Financial_datasets_log.csv\")"
   ]
  },
  {
   "cell_type": "code",
   "execution_count": 14,
   "id": "8b3f64e5",
   "metadata": {},
   "outputs": [
    {
     "name": "stdout",
     "output_type": "stream",
     "text": [
      "Selected features: ['amount', 'oldbalanceOrg', 'newbalanceOrig']\n"
     ]
    }
   ],
   "source": [
    "try:\n",
    "    # Attempt to select features\n",
    "    X = df[[\"amount\", \"oldbalanceOrg\", \"newbalanceOrig\"]]\n",
    "    print(\"Selected features:\", X.columns.tolist())\n",
    "except KeyError:\n",
    "    print(\"Error: Features not found in DataFrame. Available columns:\")\n",
    "    print(df.columns.tolist())  # Print available columns for reference"
   ]
  },
  {
   "cell_type": "code",
   "execution_count": 15,
   "id": "2922e25a",
   "metadata": {},
   "outputs": [],
   "source": [
    "# Seperating data for analysis\n",
    "legit = df[df.isFlaggedFraud == 0] # Entire row will be stored in legit\n",
    "fraud = df[df.isFlaggedFraud == 1]\n",
    "# Pandas Series"
   ]
  },
  {
   "cell_type": "code",
   "execution_count": 16,
   "id": "a4bc2ad8",
   "metadata": {},
   "outputs": [
    {
     "name": "stdout",
     "output_type": "stream",
     "text": [
      "(6362604, 11)\n",
      "(16, 11)\n"
     ]
    }
   ],
   "source": [
    "print(legit.shape)\n",
    "print(fraud.shape)"
   ]
  },
  {
   "cell_type": "code",
   "execution_count": 18,
   "id": "95868190",
   "metadata": {},
   "outputs": [
    {
     "data": {
      "text/plain": [
       "count    6.362604e+06\n",
       "mean     1.798501e+05\n",
       "std      6.037884e+05\n",
       "min      0.000000e+00\n",
       "25%      1.338955e+04\n",
       "50%      7.487127e+04\n",
       "75%      2.087205e+05\n",
       "max      9.244552e+07\n",
       "Name: amount, dtype: float64"
      ]
     },
     "execution_count": 18,
     "metadata": {},
     "output_type": "execute_result"
    }
   ],
   "source": [
    "# Statistical measures about the data\n",
    "legit.amount.describe()\n",
    "# Mean transaction is about $88\n",
    "# 25% of transaction amount are less than $5.65\n",
    "# 50% of transaction amount are less than $22"
   ]
  },
  {
   "cell_type": "code",
   "execution_count": 20,
   "id": "0ad3650a",
   "metadata": {},
   "outputs": [
    {
     "data": {
      "text/plain": [
       "count    1.600000e+01\n",
       "mean     4.861598e+06\n",
       "std      3.572499e+06\n",
       "min      3.538742e+05\n",
       "25%      2.242749e+06\n",
       "50%      4.234245e+06\n",
       "75%      7.883451e+06\n",
       "max      1.000000e+07\n",
       "Name: amount, dtype: float64"
      ]
     },
     "execution_count": 20,
     "metadata": {},
     "output_type": "execute_result"
    }
   ],
   "source": [
    "fraud.amount.describe()\n",
    "# Mean transaction is about $122.211\n",
    "# Higher than normal transcation\n",
    "# Important insight"
   ]
  },
  {
   "cell_type": "code",
   "execution_count": 30,
   "id": "d3a17eca",
   "metadata": {},
   "outputs": [],
   "source": [
    "# Dealing with unbalanced data3\n",
    "# We will use undersampling\n",
    "# Build sample dataset containing similar distribution of normal transcations and fraud transaction\n",
    "# Take randomly 492 transaction from legit one\n",
    "# Then we will have 492 normal transaction and 492 fraudlent transcation\n",
    "# Very good dataset\n",
    "# We can make better prediction using Machine Learning\n",
    "legit_sample = legit.sample(n=10000)\n",
    "# Random 492 data points"
   ]
  },
  {
   "cell_type": "code",
   "execution_count": 31,
   "id": "d5dc20b2",
   "metadata": {},
   "outputs": [],
   "source": [
    "# Concatenating two data frames (legit_sample and fraud)\n",
    "new_dataset = pd.concat([legit_sample, fraud], axis=0)\n",
    "# Frames will be added one by one\n",
    "# axis = 0 row wise\n",
    "# axis = 1 column wise\n",
    "# all 492 will be added below legit_sample"
   ]
  },
  {
   "cell_type": "code",
   "execution_count": 32,
   "id": "54f10272",
   "metadata": {},
   "outputs": [
    {
     "data": {
      "text/plain": [
       "0    10000\n",
       "1       16\n",
       "Name: isFlaggedFraud, dtype: int64"
      ]
     },
     "execution_count": 32,
     "metadata": {},
     "output_type": "execute_result"
    }
   ],
   "source": [
    "new_dataset['isFlaggedFraud'].value_counts()"
   ]
  },
  {
   "cell_type": "code",
   "execution_count": 33,
   "id": "438620d8",
   "metadata": {},
   "outputs": [
    {
     "name": "stdout",
     "output_type": "stream",
     "text": [
      "Accuracy: 0.9995\n",
      "Precision: 0.7500\n",
      "Recall: 1.0000\n",
      "F1-score: 0.8571\n"
     ]
    }
   ],
   "source": [
    "X = new_dataset[[\"amount\", \"oldbalanceOrg\", \"newbalanceOrig\"]]\n",
    "X_train, X_test, y_train, y_test = train_test_split(X, new_dataset['isFraud'], test_size=0.2, random_state=42)\n",
    "\n",
    "# Define the Random Forest model\n",
    "model = RandomForestClassifier(n_estimators=100, max_depth=5, random_state=42)\n",
    "\n",
    "# Train the model\n",
    "model.fit(X_train, y_train)\n",
    "\n",
    "# Predict on unseen data\n",
    "y_pred = model.predict(X_test)\n",
    "\n",
    "# Evaluate the model\n",
    "accuracy = accuracy_score(y_pred, y_test)\n",
    "precision = precision_score(y_pred, y_test)\n",
    "recall = recall_score(y_pred, y_test)\n",
    "f1 = f1_score(y_pred, y_test)\n",
    "\n",
    "# Print all the metrics\n",
    "print(f\"Accuracy: {accuracy:.4f}\")\n",
    "print(f\"Precision: {precision:.4f}\")\n",
    "print(f\"Recall: {recall:.4f}\")\n",
    "print(f\"F1-score: {f1:.4f}\")"
   ]
  }
 ],
 "metadata": {
  "kernelspec": {
   "display_name": "Python 3 (ipykernel)",
   "language": "python",
   "name": "python3"
  },
  "language_info": {
   "codemirror_mode": {
    "name": "ipython",
    "version": 3
   },
   "file_extension": ".py",
   "mimetype": "text/x-python",
   "name": "python",
   "nbconvert_exporter": "python",
   "pygments_lexer": "ipython3",
   "version": "3.10.6"
  }
 },
 "nbformat": 4,
 "nbformat_minor": 5
}
