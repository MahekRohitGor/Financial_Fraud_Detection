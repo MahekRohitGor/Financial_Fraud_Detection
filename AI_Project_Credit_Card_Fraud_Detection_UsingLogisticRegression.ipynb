{
 "cells": [
  {
   "cell_type": "code",
   "execution_count": 4,
   "id": "540073eb",
   "metadata": {},
   "outputs": [],
   "source": [
    "import pandas as pd\n",
    "import numpy as np\n",
    "# Allows to split your training data and testing data\n",
    "from sklearn.model_selection import train_test_split\n",
    "from sklearn.linear_model import LogisticRegression\n",
    "from sklearn.metrics import accuracy_score # helps to check performace of model\n"
   ]
  },
  {
   "cell_type": "code",
   "execution_count": 6,
   "id": "6b969d9a",
   "metadata": {},
   "outputs": [
    {
     "name": "stdout",
     "output_type": "stream",
     "text": [
      "   Time        V1        V2        V3        V4        V5        V6        V7  \\\n",
      "0   0.0 -1.359807 -0.072781  2.536347  1.378155 -0.338321  0.462388  0.239599   \n",
      "1   0.0  1.191857  0.266151  0.166480  0.448154  0.060018 -0.082361 -0.078803   \n",
      "2   1.0 -1.358354 -1.340163  1.773209  0.379780 -0.503198  1.800499  0.791461   \n",
      "3   1.0 -0.966272 -0.185226  1.792993 -0.863291 -0.010309  1.247203  0.237609   \n",
      "4   2.0 -1.158233  0.877737  1.548718  0.403034 -0.407193  0.095921  0.592941   \n",
      "\n",
      "         V8        V9  ...       V21       V22       V23       V24       V25  \\\n",
      "0  0.098698  0.363787  ... -0.018307  0.277838 -0.110474  0.066928  0.128539   \n",
      "1  0.085102 -0.255425  ... -0.225775 -0.638672  0.101288 -0.339846  0.167170   \n",
      "2  0.247676 -1.514654  ...  0.247998  0.771679  0.909412 -0.689281 -0.327642   \n",
      "3  0.377436 -1.387024  ... -0.108300  0.005274 -0.190321 -1.175575  0.647376   \n",
      "4 -0.270533  0.817739  ... -0.009431  0.798278 -0.137458  0.141267 -0.206010   \n",
      "\n",
      "        V26       V27       V28  Amount  Class  \n",
      "0 -0.189115  0.133558 -0.021053  149.62      0  \n",
      "1  0.125895 -0.008983  0.014724    2.69      0  \n",
      "2 -0.139097 -0.055353 -0.059752  378.66      0  \n",
      "3 -0.221929  0.062723  0.061458  123.50      0  \n",
      "4  0.502292  0.219422  0.215153   69.99      0  \n",
      "\n",
      "[5 rows x 31 columns]\n"
     ]
    }
   ],
   "source": [
    "# Loading dataset into pandas dataframe\n",
    "credit_card_data = pd.read_csv(\"D:/Semester 6/Artificial Intelligence/AI Project/creditcard/creditcard.csv\")\n",
    "print(credit_card_data.head())"
   ]
  },
  {
   "cell_type": "code",
   "execution_count": 7,
   "id": "84558524",
   "metadata": {},
   "outputs": [
    {
     "name": "stdout",
     "output_type": "stream",
     "text": [
      "<class 'pandas.core.frame.DataFrame'>\n",
      "RangeIndex: 284807 entries, 0 to 284806\n",
      "Data columns (total 31 columns):\n",
      " #   Column  Non-Null Count   Dtype  \n",
      "---  ------  --------------   -----  \n",
      " 0   Time    284807 non-null  float64\n",
      " 1   V1      284807 non-null  float64\n",
      " 2   V2      284807 non-null  float64\n",
      " 3   V3      284807 non-null  float64\n",
      " 4   V4      284807 non-null  float64\n",
      " 5   V5      284807 non-null  float64\n",
      " 6   V6      284807 non-null  float64\n",
      " 7   V7      284807 non-null  float64\n",
      " 8   V8      284807 non-null  float64\n",
      " 9   V9      284807 non-null  float64\n",
      " 10  V10     284807 non-null  float64\n",
      " 11  V11     284807 non-null  float64\n",
      " 12  V12     284807 non-null  float64\n",
      " 13  V13     284807 non-null  float64\n",
      " 14  V14     284807 non-null  float64\n",
      " 15  V15     284807 non-null  float64\n",
      " 16  V16     284807 non-null  float64\n",
      " 17  V17     284807 non-null  float64\n",
      " 18  V18     284807 non-null  float64\n",
      " 19  V19     284807 non-null  float64\n",
      " 20  V20     284807 non-null  float64\n",
      " 21  V21     284807 non-null  float64\n",
      " 22  V22     284807 non-null  float64\n",
      " 23  V23     284807 non-null  float64\n",
      " 24  V24     284807 non-null  float64\n",
      " 25  V25     284807 non-null  float64\n",
      " 26  V26     284807 non-null  float64\n",
      " 27  V27     284807 non-null  float64\n",
      " 28  V28     284807 non-null  float64\n",
      " 29  Amount  284807 non-null  float64\n",
      " 30  Class   284807 non-null  int64  \n",
      "dtypes: float64(30), int64(1)\n",
      "memory usage: 67.4 MB\n"
     ]
    }
   ],
   "source": [
    "# We have data for around 2 days of transaction\n",
    "# dataset information\n",
    "\n",
    "credit_card_data.info()"
   ]
  },
  {
   "cell_type": "code",
   "execution_count": 8,
   "id": "e696d635",
   "metadata": {},
   "outputs": [
    {
     "data": {
      "text/plain": [
       "Time      0\n",
       "V1        0\n",
       "V2        0\n",
       "V3        0\n",
       "V4        0\n",
       "V5        0\n",
       "V6        0\n",
       "V7        0\n",
       "V8        0\n",
       "V9        0\n",
       "V10       0\n",
       "V11       0\n",
       "V12       0\n",
       "V13       0\n",
       "V14       0\n",
       "V15       0\n",
       "V16       0\n",
       "V17       0\n",
       "V18       0\n",
       "V19       0\n",
       "V20       0\n",
       "V21       0\n",
       "V22       0\n",
       "V23       0\n",
       "V24       0\n",
       "V25       0\n",
       "V26       0\n",
       "V27       0\n",
       "V28       0\n",
       "Amount    0\n",
       "Class     0\n",
       "dtype: int64"
      ]
     },
     "execution_count": 8,
     "metadata": {},
     "output_type": "execute_result"
    }
   ],
   "source": [
    "# Checking number of missing values in each column\n",
    "credit_card_data.isnull().sum()"
   ]
  },
  {
   "cell_type": "code",
   "execution_count": 9,
   "id": "2954b6e1",
   "metadata": {},
   "outputs": [
    {
     "data": {
      "text/plain": [
       "0    284315\n",
       "1       492\n",
       "Name: Class, dtype: int64"
      ]
     },
     "execution_count": 9,
     "metadata": {},
     "output_type": "execute_result"
    }
   ],
   "source": [
    "# Distribution of legit transaction and fraudlent transaction\n",
    "credit_card_data['Class'].value_counts()"
   ]
  },
  {
   "cell_type": "markdown",
   "id": "6e1caca1",
   "metadata": {},
   "source": [
    "Dataset is highly inbalance and can give wrong predictions\n",
    "0 -> Normal Transactions\n",
    "1 -> Fraudlent Transactions"
   ]
  },
  {
   "cell_type": "code",
   "execution_count": 10,
   "id": "d513af41",
   "metadata": {},
   "outputs": [],
   "source": [
    "# Seperating data for analysis\n",
    "legit = credit_card_data[credit_card_data.Class == 0] # Entire row will be stored in legit\n",
    "fraud = credit_card_data[credit_card_data.Class == 1]\n",
    "# Pandas Series"
   ]
  },
  {
   "cell_type": "code",
   "execution_count": 12,
   "id": "ad73b35f",
   "metadata": {},
   "outputs": [
    {
     "name": "stdout",
     "output_type": "stream",
     "text": [
      "(284315, 31)\n",
      "(492, 31)\n"
     ]
    }
   ],
   "source": [
    "print(legit.shape)\n",
    "print(fraud.shape)"
   ]
  },
  {
   "cell_type": "code",
   "execution_count": 13,
   "id": "60ef2f69",
   "metadata": {},
   "outputs": [
    {
     "data": {
      "text/plain": [
       "count    284315.000000\n",
       "mean         88.291022\n",
       "std         250.105092\n",
       "min           0.000000\n",
       "25%           5.650000\n",
       "50%          22.000000\n",
       "75%          77.050000\n",
       "max       25691.160000\n",
       "Name: Amount, dtype: float64"
      ]
     },
     "execution_count": 13,
     "metadata": {},
     "output_type": "execute_result"
    }
   ],
   "source": [
    "# Statistical measures about the data\n",
    "legit.Amount.describe()\n",
    "# Mean transaction is about $88\n",
    "# 25% of transaction amount are less than $5.65\n",
    "# 50% of transaction amount are less than $22"
   ]
  },
  {
   "cell_type": "code",
   "execution_count": 14,
   "id": "8e8a480b",
   "metadata": {},
   "outputs": [
    {
     "data": {
      "text/plain": [
       "count     492.000000\n",
       "mean      122.211321\n",
       "std       256.683288\n",
       "min         0.000000\n",
       "25%         1.000000\n",
       "50%         9.250000\n",
       "75%       105.890000\n",
       "max      2125.870000\n",
       "Name: Amount, dtype: float64"
      ]
     },
     "execution_count": 14,
     "metadata": {},
     "output_type": "execute_result"
    }
   ],
   "source": [
    "fraud.Amount.describe()\n",
    "# Mean transaction is about $122.211\n",
    "# Higher than normal transcation\n",
    "# Important insight"
   ]
  },
  {
   "cell_type": "code",
   "execution_count": 15,
   "id": "508b97d0",
   "metadata": {},
   "outputs": [
    {
     "data": {
      "text/html": [
       "<div>\n",
       "<style scoped>\n",
       "    .dataframe tbody tr th:only-of-type {\n",
       "        vertical-align: middle;\n",
       "    }\n",
       "\n",
       "    .dataframe tbody tr th {\n",
       "        vertical-align: top;\n",
       "    }\n",
       "\n",
       "    .dataframe thead th {\n",
       "        text-align: right;\n",
       "    }\n",
       "</style>\n",
       "<table border=\"1\" class=\"dataframe\">\n",
       "  <thead>\n",
       "    <tr style=\"text-align: right;\">\n",
       "      <th></th>\n",
       "      <th>Time</th>\n",
       "      <th>V1</th>\n",
       "      <th>V2</th>\n",
       "      <th>V3</th>\n",
       "      <th>V4</th>\n",
       "      <th>V5</th>\n",
       "      <th>V6</th>\n",
       "      <th>V7</th>\n",
       "      <th>V8</th>\n",
       "      <th>V9</th>\n",
       "      <th>...</th>\n",
       "      <th>V20</th>\n",
       "      <th>V21</th>\n",
       "      <th>V22</th>\n",
       "      <th>V23</th>\n",
       "      <th>V24</th>\n",
       "      <th>V25</th>\n",
       "      <th>V26</th>\n",
       "      <th>V27</th>\n",
       "      <th>V28</th>\n",
       "      <th>Amount</th>\n",
       "    </tr>\n",
       "    <tr>\n",
       "      <th>Class</th>\n",
       "      <th></th>\n",
       "      <th></th>\n",
       "      <th></th>\n",
       "      <th></th>\n",
       "      <th></th>\n",
       "      <th></th>\n",
       "      <th></th>\n",
       "      <th></th>\n",
       "      <th></th>\n",
       "      <th></th>\n",
       "      <th></th>\n",
       "      <th></th>\n",
       "      <th></th>\n",
       "      <th></th>\n",
       "      <th></th>\n",
       "      <th></th>\n",
       "      <th></th>\n",
       "      <th></th>\n",
       "      <th></th>\n",
       "      <th></th>\n",
       "      <th></th>\n",
       "    </tr>\n",
       "  </thead>\n",
       "  <tbody>\n",
       "    <tr>\n",
       "      <th>0</th>\n",
       "      <td>94838.202258</td>\n",
       "      <td>0.008258</td>\n",
       "      <td>-0.006271</td>\n",
       "      <td>0.012171</td>\n",
       "      <td>-0.007860</td>\n",
       "      <td>0.005453</td>\n",
       "      <td>0.002419</td>\n",
       "      <td>0.009637</td>\n",
       "      <td>-0.000987</td>\n",
       "      <td>0.004467</td>\n",
       "      <td>...</td>\n",
       "      <td>-0.000644</td>\n",
       "      <td>-0.001235</td>\n",
       "      <td>-0.000024</td>\n",
       "      <td>0.000070</td>\n",
       "      <td>0.000182</td>\n",
       "      <td>-0.000072</td>\n",
       "      <td>-0.000089</td>\n",
       "      <td>-0.000295</td>\n",
       "      <td>-0.000131</td>\n",
       "      <td>88.291022</td>\n",
       "    </tr>\n",
       "    <tr>\n",
       "      <th>1</th>\n",
       "      <td>80746.806911</td>\n",
       "      <td>-4.771948</td>\n",
       "      <td>3.623778</td>\n",
       "      <td>-7.033281</td>\n",
       "      <td>4.542029</td>\n",
       "      <td>-3.151225</td>\n",
       "      <td>-1.397737</td>\n",
       "      <td>-5.568731</td>\n",
       "      <td>0.570636</td>\n",
       "      <td>-2.581123</td>\n",
       "      <td>...</td>\n",
       "      <td>0.372319</td>\n",
       "      <td>0.713588</td>\n",
       "      <td>0.014049</td>\n",
       "      <td>-0.040308</td>\n",
       "      <td>-0.105130</td>\n",
       "      <td>0.041449</td>\n",
       "      <td>0.051648</td>\n",
       "      <td>0.170575</td>\n",
       "      <td>0.075667</td>\n",
       "      <td>122.211321</td>\n",
       "    </tr>\n",
       "  </tbody>\n",
       "</table>\n",
       "<p>2 rows × 30 columns</p>\n",
       "</div>"
      ],
      "text/plain": [
       "               Time        V1        V2        V3        V4        V5  \\\n",
       "Class                                                                   \n",
       "0      94838.202258  0.008258 -0.006271  0.012171 -0.007860  0.005453   \n",
       "1      80746.806911 -4.771948  3.623778 -7.033281  4.542029 -3.151225   \n",
       "\n",
       "             V6        V7        V8        V9  ...       V20       V21  \\\n",
       "Class                                          ...                       \n",
       "0      0.002419  0.009637 -0.000987  0.004467  ... -0.000644 -0.001235   \n",
       "1     -1.397737 -5.568731  0.570636 -2.581123  ...  0.372319  0.713588   \n",
       "\n",
       "            V22       V23       V24       V25       V26       V27       V28  \\\n",
       "Class                                                                         \n",
       "0     -0.000024  0.000070  0.000182 -0.000072 -0.000089 -0.000295 -0.000131   \n",
       "1      0.014049 -0.040308 -0.105130  0.041449  0.051648  0.170575  0.075667   \n",
       "\n",
       "           Amount  \n",
       "Class              \n",
       "0       88.291022  \n",
       "1      122.211321  \n",
       "\n",
       "[2 rows x 30 columns]"
      ]
     },
     "execution_count": 15,
     "metadata": {},
     "output_type": "execute_result"
    }
   ],
   "source": [
    "# Comparing the values of both of these classes\n",
    "credit_card_data.groupby('Class').mean()"
   ]
  },
  {
   "cell_type": "code",
   "execution_count": 16,
   "id": "4ed2f40c",
   "metadata": {},
   "outputs": [],
   "source": [
    "# Dealing with unbalanced data3\n",
    "# We will use undersampling\n",
    "# Build sample dataset containing similar distribution of normal transcations and fraud transaction\n",
    "# Take randomly 492 transaction from legit one\n",
    "# Then we will have 492 normal transaction and 492 fraudlent transcation\n",
    "# Very good dataset\n",
    "# We can make better prediction using Machine Learning\n",
    "legit_sample = legit.sample(n=492)\n",
    "# Random 492 data points"
   ]
  },
  {
   "cell_type": "code",
   "execution_count": 17,
   "id": "f45015ba",
   "metadata": {},
   "outputs": [],
   "source": [
    "# Concatenating two data frames (legit_sample and fraud)\n",
    "new_dataset = pd.concat([legit_sample, fraud], axis=0)\n",
    "# Frames will be added one by one\n",
    "# axis = 0 row wise\n",
    "# axis = 1 column wise\n",
    "# all 492 will be added below legit_sample"
   ]
  },
  {
   "cell_type": "code",
   "execution_count": 20,
   "id": "7a3f37d2",
   "metadata": {},
   "outputs": [
    {
     "data": {
      "text/html": [
       "<div>\n",
       "<style scoped>\n",
       "    .dataframe tbody tr th:only-of-type {\n",
       "        vertical-align: middle;\n",
       "    }\n",
       "\n",
       "    .dataframe tbody tr th {\n",
       "        vertical-align: top;\n",
       "    }\n",
       "\n",
       "    .dataframe thead th {\n",
       "        text-align: right;\n",
       "    }\n",
       "</style>\n",
       "<table border=\"1\" class=\"dataframe\">\n",
       "  <thead>\n",
       "    <tr style=\"text-align: right;\">\n",
       "      <th></th>\n",
       "      <th>Time</th>\n",
       "      <th>V1</th>\n",
       "      <th>V2</th>\n",
       "      <th>V3</th>\n",
       "      <th>V4</th>\n",
       "      <th>V5</th>\n",
       "      <th>V6</th>\n",
       "      <th>V7</th>\n",
       "      <th>V8</th>\n",
       "      <th>V9</th>\n",
       "      <th>...</th>\n",
       "      <th>V21</th>\n",
       "      <th>V22</th>\n",
       "      <th>V23</th>\n",
       "      <th>V24</th>\n",
       "      <th>V25</th>\n",
       "      <th>V26</th>\n",
       "      <th>V27</th>\n",
       "      <th>V28</th>\n",
       "      <th>Amount</th>\n",
       "      <th>Class</th>\n",
       "    </tr>\n",
       "  </thead>\n",
       "  <tbody>\n",
       "    <tr>\n",
       "      <th>164135</th>\n",
       "      <td>116484.0</td>\n",
       "      <td>-0.061519</td>\n",
       "      <td>0.969277</td>\n",
       "      <td>-0.173049</td>\n",
       "      <td>-0.287837</td>\n",
       "      <td>0.752341</td>\n",
       "      <td>-0.958147</td>\n",
       "      <td>1.061145</td>\n",
       "      <td>-0.158766</td>\n",
       "      <td>-0.493780</td>\n",
       "      <td>...</td>\n",
       "      <td>0.409208</td>\n",
       "      <td>1.245239</td>\n",
       "      <td>-0.201460</td>\n",
       "      <td>-0.045336</td>\n",
       "      <td>-0.536940</td>\n",
       "      <td>-0.181137</td>\n",
       "      <td>0.223881</td>\n",
       "      <td>0.235579</td>\n",
       "      <td>24.87</td>\n",
       "      <td>0</td>\n",
       "    </tr>\n",
       "    <tr>\n",
       "      <th>165302</th>\n",
       "      <td>117335.0</td>\n",
       "      <td>2.028185</td>\n",
       "      <td>-0.161102</td>\n",
       "      <td>-1.195880</td>\n",
       "      <td>0.222569</td>\n",
       "      <td>0.061082</td>\n",
       "      <td>-0.626423</td>\n",
       "      <td>0.031712</td>\n",
       "      <td>-0.114944</td>\n",
       "      <td>0.373789</td>\n",
       "      <td>...</td>\n",
       "      <td>-0.257087</td>\n",
       "      <td>-0.663446</td>\n",
       "      <td>0.297198</td>\n",
       "      <td>-0.408272</td>\n",
       "      <td>-0.316618</td>\n",
       "      <td>0.205266</td>\n",
       "      <td>-0.075387</td>\n",
       "      <td>-0.074554</td>\n",
       "      <td>4.45</td>\n",
       "      <td>0</td>\n",
       "    </tr>\n",
       "    <tr>\n",
       "      <th>121840</th>\n",
       "      <td>76340.0</td>\n",
       "      <td>1.159182</td>\n",
       "      <td>0.135729</td>\n",
       "      <td>-0.127021</td>\n",
       "      <td>0.933530</td>\n",
       "      <td>0.011404</td>\n",
       "      <td>-0.045069</td>\n",
       "      <td>-0.143293</td>\n",
       "      <td>0.066937</td>\n",
       "      <td>0.619933</td>\n",
       "      <td>...</td>\n",
       "      <td>-0.175324</td>\n",
       "      <td>-0.264628</td>\n",
       "      <td>-0.142537</td>\n",
       "      <td>-0.486527</td>\n",
       "      <td>0.534217</td>\n",
       "      <td>0.470348</td>\n",
       "      <td>0.013905</td>\n",
       "      <td>0.037515</td>\n",
       "      <td>29.56</td>\n",
       "      <td>0</td>\n",
       "    </tr>\n",
       "    <tr>\n",
       "      <th>111380</th>\n",
       "      <td>72209.0</td>\n",
       "      <td>-2.355663</td>\n",
       "      <td>-1.062768</td>\n",
       "      <td>2.881997</td>\n",
       "      <td>1.612670</td>\n",
       "      <td>-0.239989</td>\n",
       "      <td>1.462987</td>\n",
       "      <td>-1.756041</td>\n",
       "      <td>1.441738</td>\n",
       "      <td>0.836500</td>\n",
       "      <td>...</td>\n",
       "      <td>0.402174</td>\n",
       "      <td>1.111211</td>\n",
       "      <td>-0.222708</td>\n",
       "      <td>-0.210299</td>\n",
       "      <td>0.335265</td>\n",
       "      <td>0.064117</td>\n",
       "      <td>0.339849</td>\n",
       "      <td>-0.143154</td>\n",
       "      <td>58.00</td>\n",
       "      <td>0</td>\n",
       "    </tr>\n",
       "    <tr>\n",
       "      <th>273715</th>\n",
       "      <td>165669.0</td>\n",
       "      <td>-1.173373</td>\n",
       "      <td>-0.691140</td>\n",
       "      <td>-0.756420</td>\n",
       "      <td>3.315117</td>\n",
       "      <td>-5.412547</td>\n",
       "      <td>5.033461</td>\n",
       "      <td>6.225019</td>\n",
       "      <td>-0.556144</td>\n",
       "      <td>-1.281716</td>\n",
       "      <td>...</td>\n",
       "      <td>-0.116690</td>\n",
       "      <td>0.025827</td>\n",
       "      <td>1.428896</td>\n",
       "      <td>0.685658</td>\n",
       "      <td>-1.024698</td>\n",
       "      <td>-0.515760</td>\n",
       "      <td>0.617297</td>\n",
       "      <td>-0.227795</td>\n",
       "      <td>1464.25</td>\n",
       "      <td>0</td>\n",
       "    </tr>\n",
       "  </tbody>\n",
       "</table>\n",
       "<p>5 rows × 31 columns</p>\n",
       "</div>"
      ],
      "text/plain": [
       "            Time        V1        V2        V3        V4        V5        V6  \\\n",
       "164135  116484.0 -0.061519  0.969277 -0.173049 -0.287837  0.752341 -0.958147   \n",
       "165302  117335.0  2.028185 -0.161102 -1.195880  0.222569  0.061082 -0.626423   \n",
       "121840   76340.0  1.159182  0.135729 -0.127021  0.933530  0.011404 -0.045069   \n",
       "111380   72209.0 -2.355663 -1.062768  2.881997  1.612670 -0.239989  1.462987   \n",
       "273715  165669.0 -1.173373 -0.691140 -0.756420  3.315117 -5.412547  5.033461   \n",
       "\n",
       "              V7        V8        V9  ...       V21       V22       V23  \\\n",
       "164135  1.061145 -0.158766 -0.493780  ...  0.409208  1.245239 -0.201460   \n",
       "165302  0.031712 -0.114944  0.373789  ... -0.257087 -0.663446  0.297198   \n",
       "121840 -0.143293  0.066937  0.619933  ... -0.175324 -0.264628 -0.142537   \n",
       "111380 -1.756041  1.441738  0.836500  ...  0.402174  1.111211 -0.222708   \n",
       "273715  6.225019 -0.556144 -1.281716  ... -0.116690  0.025827  1.428896   \n",
       "\n",
       "             V24       V25       V26       V27       V28   Amount  Class  \n",
       "164135 -0.045336 -0.536940 -0.181137  0.223881  0.235579    24.87      0  \n",
       "165302 -0.408272 -0.316618  0.205266 -0.075387 -0.074554     4.45      0  \n",
       "121840 -0.486527  0.534217  0.470348  0.013905  0.037515    29.56      0  \n",
       "111380 -0.210299  0.335265  0.064117  0.339849 -0.143154    58.00      0  \n",
       "273715  0.685658 -1.024698 -0.515760  0.617297 -0.227795  1464.25      0  \n",
       "\n",
       "[5 rows x 31 columns]"
      ]
     },
     "execution_count": 20,
     "metadata": {},
     "output_type": "execute_result"
    }
   ],
   "source": [
    "new_dataset.head()"
   ]
  },
  {
   "cell_type": "code",
   "execution_count": 21,
   "id": "9fd9ba08",
   "metadata": {},
   "outputs": [
    {
     "data": {
      "text/plain": [
       "0    492\n",
       "1    492\n",
       "Name: Class, dtype: int64"
      ]
     },
     "execution_count": 21,
     "metadata": {},
     "output_type": "execute_result"
    }
   ],
   "source": [
    "new_dataset['Class'].value_counts()"
   ]
  },
  {
   "cell_type": "code",
   "execution_count": 22,
   "id": "c7873383",
   "metadata": {},
   "outputs": [
    {
     "data": {
      "text/html": [
       "<div>\n",
       "<style scoped>\n",
       "    .dataframe tbody tr th:only-of-type {\n",
       "        vertical-align: middle;\n",
       "    }\n",
       "\n",
       "    .dataframe tbody tr th {\n",
       "        vertical-align: top;\n",
       "    }\n",
       "\n",
       "    .dataframe thead th {\n",
       "        text-align: right;\n",
       "    }\n",
       "</style>\n",
       "<table border=\"1\" class=\"dataframe\">\n",
       "  <thead>\n",
       "    <tr style=\"text-align: right;\">\n",
       "      <th></th>\n",
       "      <th>Time</th>\n",
       "      <th>V1</th>\n",
       "      <th>V2</th>\n",
       "      <th>V3</th>\n",
       "      <th>V4</th>\n",
       "      <th>V5</th>\n",
       "      <th>V6</th>\n",
       "      <th>V7</th>\n",
       "      <th>V8</th>\n",
       "      <th>V9</th>\n",
       "      <th>...</th>\n",
       "      <th>V20</th>\n",
       "      <th>V21</th>\n",
       "      <th>V22</th>\n",
       "      <th>V23</th>\n",
       "      <th>V24</th>\n",
       "      <th>V25</th>\n",
       "      <th>V26</th>\n",
       "      <th>V27</th>\n",
       "      <th>V28</th>\n",
       "      <th>Amount</th>\n",
       "    </tr>\n",
       "    <tr>\n",
       "      <th>Class</th>\n",
       "      <th></th>\n",
       "      <th></th>\n",
       "      <th></th>\n",
       "      <th></th>\n",
       "      <th></th>\n",
       "      <th></th>\n",
       "      <th></th>\n",
       "      <th></th>\n",
       "      <th></th>\n",
       "      <th></th>\n",
       "      <th></th>\n",
       "      <th></th>\n",
       "      <th></th>\n",
       "      <th></th>\n",
       "      <th></th>\n",
       "      <th></th>\n",
       "      <th></th>\n",
       "      <th></th>\n",
       "      <th></th>\n",
       "      <th></th>\n",
       "      <th></th>\n",
       "    </tr>\n",
       "  </thead>\n",
       "  <tbody>\n",
       "    <tr>\n",
       "      <th>0</th>\n",
       "      <td>94079.032520</td>\n",
       "      <td>0.069113</td>\n",
       "      <td>0.045661</td>\n",
       "      <td>0.030285</td>\n",
       "      <td>0.145041</td>\n",
       "      <td>-0.017241</td>\n",
       "      <td>-0.008387</td>\n",
       "      <td>0.026167</td>\n",
       "      <td>0.029737</td>\n",
       "      <td>0.015702</td>\n",
       "      <td>...</td>\n",
       "      <td>-0.007889</td>\n",
       "      <td>0.009222</td>\n",
       "      <td>0.024038</td>\n",
       "      <td>0.013292</td>\n",
       "      <td>0.033746</td>\n",
       "      <td>-0.055163</td>\n",
       "      <td>0.021251</td>\n",
       "      <td>-0.009647</td>\n",
       "      <td>-0.018091</td>\n",
       "      <td>84.204553</td>\n",
       "    </tr>\n",
       "    <tr>\n",
       "      <th>1</th>\n",
       "      <td>80746.806911</td>\n",
       "      <td>-4.771948</td>\n",
       "      <td>3.623778</td>\n",
       "      <td>-7.033281</td>\n",
       "      <td>4.542029</td>\n",
       "      <td>-3.151225</td>\n",
       "      <td>-1.397737</td>\n",
       "      <td>-5.568731</td>\n",
       "      <td>0.570636</td>\n",
       "      <td>-2.581123</td>\n",
       "      <td>...</td>\n",
       "      <td>0.372319</td>\n",
       "      <td>0.713588</td>\n",
       "      <td>0.014049</td>\n",
       "      <td>-0.040308</td>\n",
       "      <td>-0.105130</td>\n",
       "      <td>0.041449</td>\n",
       "      <td>0.051648</td>\n",
       "      <td>0.170575</td>\n",
       "      <td>0.075667</td>\n",
       "      <td>122.211321</td>\n",
       "    </tr>\n",
       "  </tbody>\n",
       "</table>\n",
       "<p>2 rows × 30 columns</p>\n",
       "</div>"
      ],
      "text/plain": [
       "               Time        V1        V2        V3        V4        V5  \\\n",
       "Class                                                                   \n",
       "0      94079.032520  0.069113  0.045661  0.030285  0.145041 -0.017241   \n",
       "1      80746.806911 -4.771948  3.623778 -7.033281  4.542029 -3.151225   \n",
       "\n",
       "             V6        V7        V8        V9  ...       V20       V21  \\\n",
       "Class                                          ...                       \n",
       "0     -0.008387  0.026167  0.029737  0.015702  ... -0.007889  0.009222   \n",
       "1     -1.397737 -5.568731  0.570636 -2.581123  ...  0.372319  0.713588   \n",
       "\n",
       "            V22       V23       V24       V25       V26       V27       V28  \\\n",
       "Class                                                                         \n",
       "0      0.024038  0.013292  0.033746 -0.055163  0.021251 -0.009647 -0.018091   \n",
       "1      0.014049 -0.040308 -0.105130  0.041449  0.051648  0.170575  0.075667   \n",
       "\n",
       "           Amount  \n",
       "Class              \n",
       "0       84.204553  \n",
       "1      122.211321  \n",
       "\n",
       "[2 rows x 30 columns]"
      ]
     },
     "execution_count": 22,
     "metadata": {},
     "output_type": "execute_result"
    }
   ],
   "source": [
    "new_dataset.groupby('Class').mean()\n",
    "# Nature of dataset is not changed"
   ]
  },
  {
   "cell_type": "code",
   "execution_count": 23,
   "id": "99193254",
   "metadata": {},
   "outputs": [],
   "source": [
    "# Split our dataset into features and targets\n",
    "# Features in x and targets in Y\n",
    "X = new_dataset.drop(columns='Class', axis=1)\n",
    "Y = new_dataset['Class']"
   ]
  },
  {
   "cell_type": "code",
   "execution_count": 24,
   "id": "6d50d272",
   "metadata": {},
   "outputs": [
    {
     "name": "stdout",
     "output_type": "stream",
     "text": [
      "            Time        V1        V2        V3        V4        V5        V6  \\\n",
      "164135  116484.0 -0.061519  0.969277 -0.173049 -0.287837  0.752341 -0.958147   \n",
      "165302  117335.0  2.028185 -0.161102 -1.195880  0.222569  0.061082 -0.626423   \n",
      "121840   76340.0  1.159182  0.135729 -0.127021  0.933530  0.011404 -0.045069   \n",
      "111380   72209.0 -2.355663 -1.062768  2.881997  1.612670 -0.239989  1.462987   \n",
      "273715  165669.0 -1.173373 -0.691140 -0.756420  3.315117 -5.412547  5.033461   \n",
      "...          ...       ...       ...       ...       ...       ...       ...   \n",
      "279863  169142.0 -1.927883  1.125653 -4.518331  1.749293 -1.566487 -2.010494   \n",
      "280143  169347.0  1.378559  1.289381 -5.004247  1.411850  0.442581 -1.326536   \n",
      "280149  169351.0 -0.676143  1.126366 -2.213700  0.468308 -1.120541 -0.003346   \n",
      "281144  169966.0 -3.113832  0.585864 -5.399730  1.817092 -0.840618 -2.943548   \n",
      "281674  170348.0  1.991976  0.158476 -2.583441  0.408670  1.151147 -0.096695   \n",
      "\n",
      "              V7        V8        V9  ...       V20       V21       V22  \\\n",
      "164135  1.061145 -0.158766 -0.493780  ... -0.052335  0.409208  1.245239   \n",
      "165302  0.031712 -0.114944  0.373789  ... -0.233706 -0.257087 -0.663446   \n",
      "121840 -0.143293  0.066937  0.619933  ... -0.055603 -0.175324 -0.264628   \n",
      "111380 -1.756041  1.441738  0.836500  ...  0.539416  0.402174  1.111211   \n",
      "273715  6.225019 -0.556144 -1.281716  ...  0.081206 -0.116690  0.025827   \n",
      "...          ...       ...       ...  ...       ...       ...       ...   \n",
      "279863 -0.882850  0.697211 -2.064945  ...  1.252967  0.778584 -0.319189   \n",
      "280143 -1.413170  0.248525 -1.127396  ...  0.226138  0.370612  0.028234   \n",
      "280149 -2.234739  1.210158 -0.652250  ...  0.247968  0.751826  0.834108   \n",
      "281144 -2.208002  1.058733 -1.632333  ...  0.306271  0.583276 -0.269209   \n",
      "281674  0.223050 -0.068384  0.577829  ... -0.017652 -0.164350 -0.295135   \n",
      "\n",
      "             V23       V24       V25       V26       V27       V28   Amount  \n",
      "164135 -0.201460 -0.045336 -0.536940 -0.181137  0.223881  0.235579    24.87  \n",
      "165302  0.297198 -0.408272 -0.316618  0.205266 -0.075387 -0.074554     4.45  \n",
      "121840 -0.142537 -0.486527  0.534217  0.470348  0.013905  0.037515    29.56  \n",
      "111380 -0.222708 -0.210299  0.335265  0.064117  0.339849 -0.143154    58.00  \n",
      "273715  1.428896  0.685658 -1.024698 -0.515760  0.617297 -0.227795  1464.25  \n",
      "...          ...       ...       ...       ...       ...       ...      ...  \n",
      "279863  0.639419 -0.294885  0.537503  0.788395  0.292680  0.147968   390.00  \n",
      "280143 -0.145640 -0.081049  0.521875  0.739467  0.389152  0.186637     0.76  \n",
      "280149  0.190944  0.032070 -0.739695  0.471111  0.385107  0.194361    77.89  \n",
      "281144 -0.456108 -0.183659 -0.328168  0.606116  0.884876 -0.253700   245.00  \n",
      "281674 -0.072173 -0.450261  0.313267 -0.289617  0.002988 -0.015309    42.53  \n",
      "\n",
      "[984 rows x 30 columns]\n"
     ]
    }
   ],
   "source": [
    "print(X)"
   ]
  },
  {
   "cell_type": "code",
   "execution_count": 25,
   "id": "731cf699",
   "metadata": {},
   "outputs": [
    {
     "name": "stdout",
     "output_type": "stream",
     "text": [
      "164135    0\n",
      "165302    0\n",
      "121840    0\n",
      "111380    0\n",
      "273715    0\n",
      "         ..\n",
      "279863    1\n",
      "280143    1\n",
      "280149    1\n",
      "281144    1\n",
      "281674    1\n",
      "Name: Class, Length: 984, dtype: int64\n"
     ]
    }
   ],
   "source": [
    "print(Y)"
   ]
  },
  {
   "cell_type": "code",
   "execution_count": 26,
   "id": "e4316276",
   "metadata": {},
   "outputs": [],
   "source": [
    "# Split data into training data and testing data\n",
    "X_train, X_test, Y_train, Y_test = train_test_split(X,Y, test_size=0.2, stratify=Y, random_state=2)\n",
    "# Features in X_train and X_test and corresponding labels in Y_train and Y_test\n",
    "# stratify = Y : Equally distributed two classes in X_train and X_test"
   ]
  },
  {
   "cell_type": "code",
   "execution_count": 27,
   "id": "975efd98",
   "metadata": {},
   "outputs": [
    {
     "name": "stdout",
     "output_type": "stream",
     "text": [
      "(984, 30) (787, 30) (197, 30)\n"
     ]
    }
   ],
   "source": [
    "print(X.shape, X_train.shape, X_test.shape)"
   ]
  },
  {
   "cell_type": "code",
   "execution_count": 38,
   "id": "c1d61bc8",
   "metadata": {},
   "outputs": [],
   "source": [
    "# Model training -> Logistic Regression\n",
    "# For Binary Classification \n",
    "from sklearn.preprocessing import StandardScaler\n",
    "scaler = StandardScaler()\n",
    "X_train_scaled = scaler.fit_transform(X_train)\n",
    "X_test_scaled = scaler.fit_transform(X_test)\n",
    "model = LogisticRegression(max_iter=1000)"
   ]
  },
  {
   "cell_type": "code",
   "execution_count": 39,
   "id": "4d4df862",
   "metadata": {},
   "outputs": [
    {
     "data": {
      "text/html": [
       "<style>#sk-container-id-4 {color: black;background-color: white;}#sk-container-id-4 pre{padding: 0;}#sk-container-id-4 div.sk-toggleable {background-color: white;}#sk-container-id-4 label.sk-toggleable__label {cursor: pointer;display: block;width: 100%;margin-bottom: 0;padding: 0.3em;box-sizing: border-box;text-align: center;}#sk-container-id-4 label.sk-toggleable__label-arrow:before {content: \"▸\";float: left;margin-right: 0.25em;color: #696969;}#sk-container-id-4 label.sk-toggleable__label-arrow:hover:before {color: black;}#sk-container-id-4 div.sk-estimator:hover label.sk-toggleable__label-arrow:before {color: black;}#sk-container-id-4 div.sk-toggleable__content {max-height: 0;max-width: 0;overflow: hidden;text-align: left;background-color: #f0f8ff;}#sk-container-id-4 div.sk-toggleable__content pre {margin: 0.2em;color: black;border-radius: 0.25em;background-color: #f0f8ff;}#sk-container-id-4 input.sk-toggleable__control:checked~div.sk-toggleable__content {max-height: 200px;max-width: 100%;overflow: auto;}#sk-container-id-4 input.sk-toggleable__control:checked~label.sk-toggleable__label-arrow:before {content: \"▾\";}#sk-container-id-4 div.sk-estimator input.sk-toggleable__control:checked~label.sk-toggleable__label {background-color: #d4ebff;}#sk-container-id-4 div.sk-label input.sk-toggleable__control:checked~label.sk-toggleable__label {background-color: #d4ebff;}#sk-container-id-4 input.sk-hidden--visually {border: 0;clip: rect(1px 1px 1px 1px);clip: rect(1px, 1px, 1px, 1px);height: 1px;margin: -1px;overflow: hidden;padding: 0;position: absolute;width: 1px;}#sk-container-id-4 div.sk-estimator {font-family: monospace;background-color: #f0f8ff;border: 1px dotted black;border-radius: 0.25em;box-sizing: border-box;margin-bottom: 0.5em;}#sk-container-id-4 div.sk-estimator:hover {background-color: #d4ebff;}#sk-container-id-4 div.sk-parallel-item::after {content: \"\";width: 100%;border-bottom: 1px solid gray;flex-grow: 1;}#sk-container-id-4 div.sk-label:hover label.sk-toggleable__label {background-color: #d4ebff;}#sk-container-id-4 div.sk-serial::before {content: \"\";position: absolute;border-left: 1px solid gray;box-sizing: border-box;top: 0;bottom: 0;left: 50%;z-index: 0;}#sk-container-id-4 div.sk-serial {display: flex;flex-direction: column;align-items: center;background-color: white;padding-right: 0.2em;padding-left: 0.2em;position: relative;}#sk-container-id-4 div.sk-item {position: relative;z-index: 1;}#sk-container-id-4 div.sk-parallel {display: flex;align-items: stretch;justify-content: center;background-color: white;position: relative;}#sk-container-id-4 div.sk-item::before, #sk-container-id-4 div.sk-parallel-item::before {content: \"\";position: absolute;border-left: 1px solid gray;box-sizing: border-box;top: 0;bottom: 0;left: 50%;z-index: -1;}#sk-container-id-4 div.sk-parallel-item {display: flex;flex-direction: column;z-index: 1;position: relative;background-color: white;}#sk-container-id-4 div.sk-parallel-item:first-child::after {align-self: flex-end;width: 50%;}#sk-container-id-4 div.sk-parallel-item:last-child::after {align-self: flex-start;width: 50%;}#sk-container-id-4 div.sk-parallel-item:only-child::after {width: 0;}#sk-container-id-4 div.sk-dashed-wrapped {border: 1px dashed gray;margin: 0 0.4em 0.5em 0.4em;box-sizing: border-box;padding-bottom: 0.4em;background-color: white;}#sk-container-id-4 div.sk-label label {font-family: monospace;font-weight: bold;display: inline-block;line-height: 1.2em;}#sk-container-id-4 div.sk-label-container {text-align: center;}#sk-container-id-4 div.sk-container {/* jupyter's `normalize.less` sets `[hidden] { display: none; }` but bootstrap.min.css set `[hidden] { display: none !important; }` so we also need the `!important` here to be able to override the default hidden behavior on the sphinx rendered scikit-learn.org. See: https://github.com/scikit-learn/scikit-learn/issues/21755 */display: inline-block !important;position: relative;}#sk-container-id-4 div.sk-text-repr-fallback {display: none;}</style><div id=\"sk-container-id-4\" class=\"sk-top-container\"><div class=\"sk-text-repr-fallback\"><pre>LogisticRegression(max_iter=1000)</pre><b>In a Jupyter environment, please rerun this cell to show the HTML representation or trust the notebook. <br />On GitHub, the HTML representation is unable to render, please try loading this page with nbviewer.org.</b></div><div class=\"sk-container\" hidden><div class=\"sk-item\"><div class=\"sk-estimator sk-toggleable\"><input class=\"sk-toggleable__control sk-hidden--visually\" id=\"sk-estimator-id-4\" type=\"checkbox\" checked><label for=\"sk-estimator-id-4\" class=\"sk-toggleable__label sk-toggleable__label-arrow\">LogisticRegression</label><div class=\"sk-toggleable__content\"><pre>LogisticRegression(max_iter=1000)</pre></div></div></div></div></div>"
      ],
      "text/plain": [
       "LogisticRegression(max_iter=1000)"
      ]
     },
     "execution_count": 39,
     "metadata": {},
     "output_type": "execute_result"
    }
   ],
   "source": [
    "# Training the logistic regression model with training data\n",
    "# Will fit out data in model\n",
    "\n",
    "model.fit(X_train_scaled, Y_train)"
   ]
  },
  {
   "cell_type": "code",
   "execution_count": 40,
   "id": "7dd5a901",
   "metadata": {},
   "outputs": [
    {
     "name": "stdout",
     "output_type": "stream",
     "text": [
      "Accuracy is:  0.951715374841169\n"
     ]
    }
   ],
   "source": [
    "# Accuracy on training data\n",
    "X_train_prediction = model.predict(X_train_scaled)\n",
    "training_data_accuracy = accuracy_score(X_train_prediction, Y_train)\n",
    "print('Accuracy is: ', training_data_accuracy)"
   ]
  },
  {
   "cell_type": "code",
   "execution_count": 41,
   "id": "4c9390cf",
   "metadata": {},
   "outputs": [
    {
     "name": "stdout",
     "output_type": "stream",
     "text": [
      "Accuracy of testing data:  0.934010152284264\n"
     ]
    }
   ],
   "source": [
    "# Accuracy score above 75% is very good\n",
    "# Accuracy score in test data is very imp\n",
    "X_test_prediction = model.predict(X_test_scaled)\n",
    "test_data_accuracy = accuracy_score(X_test_prediction, Y_test)\n",
    "print(\"Accuracy of testing data: \", test_data_accuracy)"
   ]
  },
  {
   "cell_type": "code",
   "execution_count": 42,
   "id": "5fb96667",
   "metadata": {},
   "outputs": [],
   "source": [
    "# Overfitted when accuracy_score is very different in training and testing prediction training > testing\n",
    "# Underfitting when testing accuracy score is > training accuracy score"
   ]
  }
 ],
 "metadata": {
  "kernelspec": {
   "display_name": "Python 3 (ipykernel)",
   "language": "python",
   "name": "python3"
  },
  "language_info": {
   "codemirror_mode": {
    "name": "ipython",
    "version": 3
   },
   "file_extension": ".py",
   "mimetype": "text/x-python",
   "name": "python",
   "nbconvert_exporter": "python",
   "pygments_lexer": "ipython3",
   "version": "3.10.6"
  }
 },
 "nbformat": 4,
 "nbformat_minor": 5
}
